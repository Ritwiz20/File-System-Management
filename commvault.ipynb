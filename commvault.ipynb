{
 "cells": [
  {
   "cell_type": "markdown",
   "id": "0240c46d-a3e8-47e0-887e-a29ef002b436",
   "metadata": {},
   "source": [
    "# Importing Libraries"
   ]
  },
  {
   "cell_type": "code",
   "execution_count": 1,
   "id": "c534c0b3-0ebc-4236-a373-9b2ba48e7b16",
   "metadata": {},
   "outputs": [],
   "source": [
    "import os \n",
    "import shutil\n",
    "import datetime"
   ]
  },
  {
   "cell_type": "markdown",
   "id": "9f7cbc40-4d9e-46ad-a22e-b890e5a06fea",
   "metadata": {},
   "source": [
    "# Designing the file system's structure"
   ]
  },
  {
   "cell_type": "code",
   "execution_count": 2,
   "id": "c444885b-9e92-4e27-ace9-ed040daca1a7",
   "metadata": {},
   "outputs": [],
   "source": [
    "class FileSystem:\n",
    "    \"\"\"\n",
    "    The `FileSystem` class allows you to manage a simple file system in a specified base directory.\n",
    "    It provides methods for creating, editing, deleting, reverting, copying, and moving files with version control.\n",
    "    The file system maintains a history of versions for each file.\n",
    "\n",
    "    Parameters:\n",
    "        base_directory (str): The base directory where the file system is located. If the directory does not exist,\n",
    "                             it will be created upon initialization.\n",
    "\n",
    "    Methods:\n",
    "        - `__init__(self, base_directory)`: Initializes the file system with the given base directory.\n",
    "        - `get_details(self, file_name)`: Retrieves and prints details about a specific file, including its version history.\n",
    "        - `create_file(self, file_name, content)`: Creates a new file with the specified content.\n",
    "        - `edit_file(self, file_name, new_content)`: Modifies the content of an existing file, creating a new version.\n",
    "        - `delete_file(self, file_name)`: Deletes a file from the file system.\n",
    "        - `revert_to_version(self, file_name, version_number)`: Reverts a file to a specific version.\n",
    "        - `copy_file(self, file_name, new_path)`: Creates a copy of a file in the specified destination directory.\n",
    "        - `move_file(self, file_name, new_path)`: Moves a file to a different directory.\n",
    "\n",
    "    Attributes:\n",
    "        - `file_system`: A dictionary that stores information about files, including their version and creation date.\n",
    "        - `versions`: A dictionary that maintains the history of file versions.\n",
    "        - `current_version`: The current version number, which is automatically incremented.\n",
    "\n",
    "    Example Usage:\n",
    "    ```\n",
    "    # Initialize the file system in a specific directory\n",
    "    fs = FileSystem(\"my_file_system\")\n",
    "\n",
    "    # Create a new file\n",
    "    fs.create_file(\"example_file\", \"This is the initial content.\")\n",
    "\n",
    "    # Edit the file\n",
    "    fs.edit_file(\"example_file\", \"This is the updated content.\")\n",
    "\n",
    "    # Get file details\n",
    "    fs.get_details(\"example_file\")\n",
    "\n",
    "    # Revert to a previous version\n",
    "    fs.revert_to_version(\"example_file\", 1)\n",
    "\n",
    "    # Copy the file to a different directory\n",
    "    fs.copy_file(\"example_file\", \"backup_directory\")\n",
    "\n",
    "    # Move the file to a different directory\n",
    "    fs.move_file(\"example_file\", \"new_directory\")\n",
    "\n",
    "    # Delete the file\n",
    "    fs.delete_file(\"example_file\")\n",
    "    ```\n",
    "    \"\"\"\n",
    "\n",
    "    def __init__(self, base_directory):\n",
    "        \"\"\"\n",
    "        Initializes the FileSystem.\n",
    "\n",
    "        Parameters:\n",
    "            base_directory (str): The base directory for the file system.\n",
    "        \"\"\"\n",
    "        pass\n",
    "\n",
    "    def get_details(self, file_name):\n",
    "        \"\"\"\n",
    "        Retrieve and print details about a specific file, including its version history.\n",
    "\n",
    "        Parameters:\n",
    "            file_name (str): The name of the file to get details for.\n",
    "        \"\"\"\n",
    "        pass\n",
    "\n",
    "    def create_file(self, file_name, content):\n",
    "        \"\"\"\n",
    "        Create a new file with the specified content.\n",
    "\n",
    "        Parameters:\n",
    "            file_name (str): The name of the new file.\n",
    "            content (str): The initial content of the file.\n",
    "        \"\"\"\n",
    "        pass\n",
    "\n",
    "    def edit_file(self, file_name, new_content):\n",
    "        \"\"\"\n",
    "        Modify the content of an existing file, creating a new version.\n",
    "\n",
    "        Parameters:\n",
    "            file_name (str): The name of the file to edit.\n",
    "            new_content (str): The updated content of the file.\n",
    "        \"\"\"\n",
    "        pass\n",
    "\n",
    "    def edit_file(self, file_name, new_content):\n",
    "        \"\"\"\n",
    "        Modify the content of an existing file, creating a new version.\n",
    "\n",
    "        Parameters:\n",
    "            file_name (str): The name of the file to edit.\n",
    "            new_content (str): The updated content of the file.\n",
    "        \"\"\"\n",
    "        pass\n",
    "\n",
    "    def delete_file(self, file_name):\n",
    "        \"\"\"\n",
    "        Delete a file from the file system.\n",
    "\n",
    "        Parameters:\n",
    "            file_name (str): The name of the file to delete.\n",
    "        \"\"\"\n",
    "        pass\n",
    "\n",
    "    def revert_to_version(self, file_name, version_number):\n",
    "        \"\"\"\n",
    "        Revert a file to a specific version.\n",
    "\n",
    "        Parameters:\n",
    "            file_name (str): The name of the file to revert.\n",
    "            version_number (int): The version number to revert to.\n",
    "        \"\"\"\n",
    "        pass\n",
    "\n",
    "    def copy_file(self, file_name, new_path):\n",
    "        \"\"\"\n",
    "        Create a copy of a file in the specified destination directory.\n",
    "\n",
    "        Parameters:\n",
    "            file_name (str): The name of the file to copy.\n",
    "            new_path (str): The destination directory for the copy.\n",
    "        \"\"\"\n",
    "        pass\n",
    "\n",
    "    def move_file(self, file_name, new_path):\n",
    "        \"\"\"\n",
    "        Move a file to a different directory.\n",
    "\n",
    "        Parameters:\n",
    "            file_name (str): The name of the file to move.\n",
    "            new_path (str): The destination directory for the move.\n",
    "        \"\"\"\n",
    "        pass\n"
   ]
  },
  {
   "cell_type": "markdown",
   "id": "36dd0630-5812-4cc8-ad56-51e2af5aaa51",
   "metadata": {},
   "source": [
    "# Implementing the code for the given structure "
   ]
  },
  {
   "cell_type": "code",
   "execution_count": 21,
   "id": "73693bfb-c76d-4113-b7af-2e31d060e94b",
   "metadata": {},
   "outputs": [],
   "source": [
    "class FileSystem:\n",
    "\n",
    "    def __init__(self, base_directory):\n",
    "        self.base_directory = base_directory\n",
    "        self.file_system = {}\n",
    "        self.versions = {}\n",
    "        self.current_version = 1\n",
    "\n",
    "        if not os.path.exists(self.base_directory):\n",
    "            os.makedirs(self.base_directory)\n",
    "\n",
    "    \n",
    "    def get_details(self, file_name):\n",
    "        file_path = os.path.join(self.base_directory, f\"{file_name}.txt\")\n",
    "        if os.path.exists(file_path):\n",
    "            print(\"File System : \", self.file_system[file_name])\n",
    "            print(\"Versions : \", self.versions[file_name])\n",
    "            print(\"Current Version : \", self.file_system[file_name]['version'])\n",
    "        else:\n",
    "            print(\"File doesn't exist.\")\n",
    "            \n",
    "\n",
    "    def create_file(self, file_name, content):\n",
    "        file_path = os.path.join(self.base_directory, f\"{file_name}.txt\")\n",
    "        \n",
    "        if os.path.exists(file_path):\n",
    "            print(\"File already exists.\")\n",
    "        else:\n",
    "            self.file_system[file_name] = {\n",
    "                'version': self.current_version,\n",
    "                'created_at': datetime.datetime.now()\n",
    "            }\n",
    "            self.versions[file_name] = {self.current_version: content}\n",
    "            self.current_version += 1\n",
    "\n",
    "            with open(file_path, 'w') as file:\n",
    "                file.write(content)\n",
    "            print(f\"File '{file_name}' created as '{file_path}'.\")\n",
    "            print(self.file_system)\n",
    "            print(self.versions)\n",
    "\n",
    "    \n",
    "    def edit_file(self, file_name, new_content):\n",
    "        file_path = os.path.join(self.base_directory, f\"{file_name}.txt\")\n",
    "   \n",
    "        if os.path.exists(file_path):\n",
    "            with open(file_path, 'w') as f:\n",
    "                f.write(new_content)\n",
    "\n",
    "            self.file_system[file_name]['version'] += 1\n",
    "            self.file_system[file_name]['created_at'] = datetime.datetime.now()\n",
    "            version = self.file_system[file_name]['version']\n",
    "            self.current_version = version\n",
    "            self.versions[file_name][version] = new_content\n",
    "            \n",
    "            print(f\"File '{file_name}' content has been updated to version {version}.\")\n",
    "            print(self.file_system)\n",
    "            print(self.versions)\n",
    "        else:\n",
    "            print(f\"File '{file_name}' not found in the directory.\")\n",
    "\n",
    "\n",
    "    def append_to_file(self, file_name, new_content):\n",
    "        file_path = os.path.join(self.base_directory, f\"{file_name}.txt\")\n",
    "        \n",
    "        if os.path.exists(file_path):\n",
    "            with open(file_path, 'a') as f:\n",
    "                f.write(new_content)\n",
    "        \n",
    "            self.file_system[file_name]['version'] += 1\n",
    "            self.file_system[file_name]['created_at'] = datetime.datetime.now()\n",
    "            version = self.file_system[file_name]['version']\n",
    "            self.current_version = version\n",
    "        \n",
    "            with open(file_path, 'r') as f:\n",
    "                to_be_updated = f.read()\n",
    "        \n",
    "            self.versions[file_name][version] = to_be_updated\n",
    "        \n",
    "            print(f\"File '{file_name}' content has been altered.\")\n",
    "            print(self.file_system)\n",
    "            print(self.versions)\n",
    "        else:\n",
    "            print(f\"File '{file_name}' not found in the directory.\")\n",
    "\n",
    "\n",
    "    def delete_file(self, file_name):\n",
    "        file_path = os.path.join(self.base_directory, f\"{file_name}.txt\")\n",
    "        print(file_path)\n",
    "        if os.path.exists(file_path):\n",
    "            os.remove(file_path)\n",
    "            del self.file_system[file_name]\n",
    "            del self.versions[file_name]\n",
    "            self.current_version = 0\n",
    "            print(f\"Deleted {file_name}.txt successfully!\")\n",
    "        else:\n",
    "            print(\"No such file found to delete.\")\n",
    "\n",
    "    \n",
    "    def revert_to_version(self, file_name, version_number):\n",
    "        file_path = os.path.join(self.base_directory, f\"{file_name}.txt\")\n",
    "        print(file_path)\n",
    "\n",
    "        if os.path.exists(file_path):\n",
    "            updated_content = self.versions[file_name][version_number]\n",
    "            print(updated_content)\n",
    "\n",
    "            with open(file_path, 'w') as f:\n",
    "                f.write(updated_content)\n",
    "                print(f\"File {file_name} has been reverted to version {version_number}\")\n",
    "\n",
    "            self.file_system[file_name]['version'] = version_number\n",
    "            self.file_system[file_name]['created_at'] = datetime.datetime.now()\n",
    "        else:\n",
    "            print(\"File not found\")\n",
    "\n",
    "\n",
    "    def copy_file(self, file_name, new_path):\n",
    "        file_path = os.path.join(self.base_directory, f\"{file_name}.txt\")\n",
    "        print(file_path)\n",
    "\n",
    "        if os.path.exists(file_path):\n",
    "            new_file_path = os.path.join(new_path, f\"{file_name}(Copy).txt\")\n",
    "            shutil.copy(file_path, new_file_path)\n",
    "            print(f\"{file_name} has been copied to {new_path} with the name {new_file_path.split('/')[-1]}\")\n",
    "        else:\n",
    "            print(\"File not found which can be copied.\") \n",
    "\n",
    "\n",
    "    def move_file(self, file_name, new_path):\n",
    "        file_path = os.path.join(self.base_directory,f\"{file_name}.txt\")\n",
    "        new_file_path = os.path.join(new_path, f\"{file_name}.txt\")\n",
    "\n",
    "        if os.path.exists(file_path):\n",
    "            if os.path.exists(new_file_path):\n",
    "                print(f\"File {file_name} already exists in {new_path}\")\n",
    "            else:\n",
    "                shutil.move(file_path, new_file_path)\n",
    "                print(f\"{file_name} has been copied to {new_path}\")\n",
    "        else:\n",
    "            print(\"No file found which can be moved\")"
   ]
  },
  {
   "cell_type": "markdown",
   "id": "8c19ade7-9d72-478f-9d3b-00d348beb5db",
   "metadata": {},
   "source": [
    "# Testing the code on notebook "
   ]
  },
  {
   "cell_type": "code",
   "execution_count": 22,
   "id": "b3c11e22-21ce-43dc-a3e4-c99b6d66ea3c",
   "metadata": {},
   "outputs": [
    {
     "name": "stdout",
     "output_type": "stream",
     "text": [
      "File 'TestDummy' created as '/media/ritwiz/Code1/Jupyter-Workspace/ParentDirectory/TestDummy.txt'.\n",
      "{'TestDummy': {'version': 1, 'created_at': datetime.datetime(2023, 10, 25, 18, 50, 29, 997702)}}\n",
      "{'TestDummy': {1: 'This is a test file'}}\n"
     ]
    }
   ],
   "source": [
    "fs = FileSystem(os.getcwd())\n",
    "fs.create_file(\"TestDummy\", \"This is a test file\")"
   ]
  },
  {
   "cell_type": "code",
   "execution_count": 23,
   "id": "83686ad8-fa6c-484a-9ee5-904fe5bc785a",
   "metadata": {},
   "outputs": [
    {
     "name": "stdout",
     "output_type": "stream",
     "text": [
      "File System :  {'version': 1, 'created_at': datetime.datetime(2023, 10, 25, 18, 50, 29, 997702)}\n",
      "Versions :  {1: 'This is a test file'}\n",
      "Current Version :  1\n"
     ]
    }
   ],
   "source": [
    "fs.get_details(\"TestDummy\")"
   ]
  },
  {
   "cell_type": "code",
   "execution_count": 24,
   "id": "42f5ec6d-2c37-4a13-9fa7-118d6f84aac3",
   "metadata": {},
   "outputs": [
    {
     "name": "stdout",
     "output_type": "stream",
     "text": [
      "File 'TestDummy' content has been updated to version 2.\n",
      "{'TestDummy': {'version': 2, 'created_at': datetime.datetime(2023, 10, 25, 18, 50, 33, 21798)}}\n",
      "{'TestDummy': {1: 'This is a test file', 2: 'This is now an updated test file'}}\n"
     ]
    }
   ],
   "source": [
    "fs.edit_file(\"TestDummy\", \"This is now an updated test file\")"
   ]
  },
  {
   "cell_type": "code",
   "execution_count": 25,
   "id": "5421fb2f-3dd0-445c-b442-d992b109c3d4",
   "metadata": {},
   "outputs": [
    {
     "name": "stdout",
     "output_type": "stream",
     "text": [
      "File System :  {'version': 2, 'created_at': datetime.datetime(2023, 10, 25, 18, 50, 33, 21798)}\n",
      "Versions :  {1: 'This is a test file', 2: 'This is now an updated test file'}\n",
      "Current Version :  2\n"
     ]
    }
   ],
   "source": [
    "fs.get_details(\"TestDummy\")"
   ]
  },
  {
   "cell_type": "code",
   "execution_count": 26,
   "id": "a0a44dfb-43af-478e-b5ee-a119127e75ef",
   "metadata": {},
   "outputs": [
    {
     "name": "stdout",
     "output_type": "stream",
     "text": [
      "File 'TestDummy' content has been altered.\n",
      "{'TestDummy': {'version': 3, 'created_at': datetime.datetime(2023, 10, 25, 18, 50, 44, 768497)}}\n",
      "{'TestDummy': {1: 'This is a test file', 2: 'This is now an updated test file', 3: 'This is now an updated test file I am now adding to the already existing content'}}\n"
     ]
    }
   ],
   "source": [
    "fs.append_to_file(\"TestDummy\", \" I am now adding to the already existing content\")"
   ]
  },
  {
   "cell_type": "code",
   "execution_count": 27,
   "id": "21053566-d281-45b7-9eee-836202939709",
   "metadata": {},
   "outputs": [
    {
     "name": "stdout",
     "output_type": "stream",
     "text": [
      "File System :  {'version': 3, 'created_at': datetime.datetime(2023, 10, 25, 18, 50, 44, 768497)}\n",
      "Versions :  {1: 'This is a test file', 2: 'This is now an updated test file', 3: 'This is now an updated test file I am now adding to the already existing content'}\n",
      "Current Version :  3\n"
     ]
    }
   ],
   "source": [
    "fs.get_details(\"TestDummy\")"
   ]
  },
  {
   "cell_type": "code",
   "execution_count": 28,
   "id": "5387487a-9a12-4bd7-a102-362863ecafad",
   "metadata": {},
   "outputs": [
    {
     "name": "stdout",
     "output_type": "stream",
     "text": [
      "/media/ritwiz/Code1/Jupyter-Workspace/ParentDirectory/TestDummy.txt\n",
      "This is a test file\n",
      "File TestDummy has been reverted to version 1\n"
     ]
    }
   ],
   "source": [
    "fs.revert_to_version(\"TestDummy\", 1)"
   ]
  },
  {
   "cell_type": "code",
   "execution_count": 29,
   "id": "738e9d1b-31ba-4a40-afa1-175bd955c734",
   "metadata": {},
   "outputs": [
    {
     "name": "stdout",
     "output_type": "stream",
     "text": [
      "File System :  {'version': 1, 'created_at': datetime.datetime(2023, 10, 25, 18, 50, 57, 270681)}\n",
      "Versions :  {1: 'This is a test file', 2: 'This is now an updated test file', 3: 'This is now an updated test file I am now adding to the already existing content'}\n",
      "Current Version :  1\n"
     ]
    }
   ],
   "source": [
    "fs.get_details(\"TestDummy\")"
   ]
  },
  {
   "cell_type": "code",
   "execution_count": 30,
   "id": "f4c41395-6d66-4708-8fee-144f513f2750",
   "metadata": {},
   "outputs": [
    {
     "name": "stdout",
     "output_type": "stream",
     "text": [
      "/media/ritwiz/Code1/Jupyter-Workspace/ParentDirectory/TestDummy.txt\n",
      "This is now an updated test file\n",
      "File TestDummy has been reverted to version 2\n"
     ]
    }
   ],
   "source": [
    "fs.revert_to_version(\"TestDummy\", 2)"
   ]
  },
  {
   "cell_type": "code",
   "execution_count": 31,
   "id": "00538f2b-e70d-4d93-a9b9-4b121adb771f",
   "metadata": {},
   "outputs": [
    {
     "name": "stdout",
     "output_type": "stream",
     "text": [
      "File System :  {'version': 2, 'created_at': datetime.datetime(2023, 10, 25, 18, 51, 8, 744757)}\n",
      "Versions :  {1: 'This is a test file', 2: 'This is now an updated test file', 3: 'This is now an updated test file I am now adding to the already existing content'}\n",
      "Current Version :  2\n"
     ]
    }
   ],
   "source": [
    "fs.get_details(\"TestDummy\")"
   ]
  },
  {
   "cell_type": "code",
   "execution_count": 32,
   "id": "742f77fb-f6da-4805-ad36-d9fa17c198c9",
   "metadata": {},
   "outputs": [
    {
     "name": "stdout",
     "output_type": "stream",
     "text": [
      "/media/ritwiz/Code1/Jupyter-Workspace/ParentDirectory/TestDummy.txt\n",
      "This is now an updated test file I am now adding to the already existing content\n",
      "File TestDummy has been reverted to version 3\n"
     ]
    }
   ],
   "source": [
    "fs.revert_to_version(\"TestDummy\", 3)"
   ]
  },
  {
   "cell_type": "code",
   "execution_count": 33,
   "id": "52847de0-3456-4bfb-9ad0-26f3f0013db4",
   "metadata": {},
   "outputs": [
    {
     "name": "stdout",
     "output_type": "stream",
     "text": [
      "File System :  {'version': 3, 'created_at': datetime.datetime(2023, 10, 25, 18, 51, 12, 707607)}\n",
      "Versions :  {1: 'This is a test file', 2: 'This is now an updated test file', 3: 'This is now an updated test file I am now adding to the already existing content'}\n",
      "Current Version :  3\n"
     ]
    }
   ],
   "source": [
    "fs.get_details(\"TestDummy\")"
   ]
  },
  {
   "cell_type": "code",
   "execution_count": 16,
   "id": "fe3570b3-8d5e-4569-9585-20650a37841c",
   "metadata": {},
   "outputs": [
    {
     "name": "stdout",
     "output_type": "stream",
     "text": [
      "/media/ritwiz/Code1/Jupyter-Workspace/ParentDirectory/TestDummy.txt\n",
      "TestDummy has been copied to /media/ritwiz/Code1/Jupyter-Workspace/ with the name TestDummy(Copy).txt\n"
     ]
    }
   ],
   "source": [
    "fs.copy_file(\"TestDummy\", \"/media/ritwiz/Code1/Jupyter-Workspace/\")"
   ]
  },
  {
   "cell_type": "code",
   "execution_count": 17,
   "id": "cc309b29-5a9e-48a1-9f6e-47f190385b30",
   "metadata": {},
   "outputs": [
    {
     "name": "stdout",
     "output_type": "stream",
     "text": [
      "TestDummy has been copied to /media/ritwiz/Code1/Jupyter-Workspace/\n"
     ]
    }
   ],
   "source": [
    "fs.move_file(\"TestDummy\", \"/media/ritwiz/Code1/Jupyter-Workspace/\")"
   ]
  },
  {
   "cell_type": "markdown",
   "id": "da4c525e-8fcf-469d-9f9b-9ffcf36a60de",
   "metadata": {},
   "source": [
    "Made a new file again called TestDummy inside our ParentDirectory and testing the move_file()"
   ]
  },
  {
   "cell_type": "code",
   "execution_count": 18,
   "id": "f06960c8-955f-48f3-8994-fa6dbc54987f",
   "metadata": {},
   "outputs": [
    {
     "name": "stdout",
     "output_type": "stream",
     "text": [
      "No file found which can be moved\n"
     ]
    }
   ],
   "source": [
    "fs.move_file(\"TestDummy\", \"/media/ritwiz/Code1/Jupyter-Workspace/\")"
   ]
  },
  {
   "cell_type": "code",
   "execution_count": 34,
   "id": "eab9f5f8-c94a-4628-b02b-29618eceb72f",
   "metadata": {},
   "outputs": [
    {
     "name": "stdout",
     "output_type": "stream",
     "text": [
      "/media/ritwiz/Code1/Jupyter-Workspace/ParentDirectory/TestDummy.txt\n",
      "Deleted TestDummy.txt successfully!\n"
     ]
    }
   ],
   "source": [
    "fs.delete_file(\"TestDummy\")"
   ]
  },
  {
   "cell_type": "markdown",
   "id": "ed08b2ec-30ad-421d-a74d-ef3a17589353",
   "metadata": {},
   "source": [
    "# Implementing the same code for scripting on IDE "
   ]
  },
  {
   "cell_type": "markdown",
   "id": "074e5e64-9959-4334-ab1e-943a13800ecc",
   "metadata": {},
   "source": [
    "## Instructions to follow\n",
    "\n",
    "- Copy the class definition and create a helper.py file\n",
    "- Create another file named app.py and import the module.\n",
    "- Run the app.py file to see the magic "
   ]
  },
  {
   "cell_type": "markdown",
   "id": "ce985840-4353-4ffd-a27c-7990f0eee4c2",
   "metadata": {},
   "source": [
    "## app.py file "
   ]
  },
  {
   "cell_type": "code",
   "execution_count": null,
   "id": "3ef31a3f-87e9-486b-a206-c30972be238b",
   "metadata": {},
   "outputs": [],
   "source": [
    "from helper import FileSystem  \n",
    "def main():\n",
    "    fs = FileSystem(\"/home/ritwiz/Desktop/commvault\")\n",
    "\n",
    "    while True:\n",
    "        print(\"Options:\")\n",
    "        print(\"1. Create File\")\n",
    "        print(\"2. Edit File\")\n",
    "        print(\"3. Delete File\")\n",
    "        print(\"4. Get File Details\")\n",
    "        print(\"5. Revert to Version\")\n",
    "        print(\"6. Copy File\")\n",
    "        print(\"7. Move File\")\n",
    "        print(\"8. Append To File\")\n",
    "        print(\"9. Quit\")\n",
    "\n",
    "        choice = input(\"Enter your choice: \")\n",
    "\n",
    "        if choice == \"1\":\n",
    "            file_name = input(\"Enter the file name: \")\n",
    "            content = input(\"Enter the file content: \")\n",
    "            fs.create_file(file_name, content)\n",
    "        elif choice == \"2\":\n",
    "            file_name = input(\"Enter the file name: \")\n",
    "            new_content = input(\"Enter the new content: \")\n",
    "            fs.edit_file(file_name, new_content)\n",
    "        elif choice == \"3\":\n",
    "            file_name = input(\"Enter the file name: \")\n",
    "            fs.delete_file(file_name)\n",
    "        elif choice == \"4\":\n",
    "            file_name = input(\"Enter the file name: \")\n",
    "            fs.get_details(file_name)\n",
    "        elif choice == \"5\":\n",
    "            file_name = input(\"Enter the file name: \")\n",
    "            version_number = int(input(\"Enter the version number: \"))\n",
    "            fs.revert_to_version(file_name, version_number)\n",
    "        elif choice == \"6\":\n",
    "            file_name = input(\"Enter the file name: \")\n",
    "            new_path = input(\"Enter the destination path: \")\n",
    "            fs.copy_file(file_name, new_path)\n",
    "        elif choice == \"7\":\n",
    "            file_name = input(\"Enter the file name: \")\n",
    "            new_path = input(\"Enter the destination path: \")\n",
    "            fs.move_file(file_name, new_path)\n",
    "        elif choice == \"8\":\n",
    "            file_name = input(\"Enter the file name: \")\n",
    "            new_content = input(\"Enter the new content which is to be appended: \")\n",
    "            fs.append_to_file(file_name, new_content)\n",
    "        elif choice =='9':\n",
    "            break\n",
    "        else:\n",
    "            print(\"Invalid choice. Please select a valid option.\")\n",
    "\n",
    "if __name__ == \"__main__\":\n",
    "    main()\n"
   ]
  },
  {
   "cell_type": "markdown",
   "id": "71805b02-b1cb-4b0c-8215-c1fc32ff688c",
   "metadata": {},
   "source": [
    "# Outputs of the terminal while running the script on VS Code"
   ]
  },
  {
   "cell_type": "markdown",
   "id": "ac9c5da3-08d2-4bd2-a5dc-668372eeac3f",
   "metadata": {},
   "source": [
    "Options:\n",
    "1. Create File\n",
    "2. Edit File\n",
    "3. Delete File\n",
    "4. Get File Details\n",
    "5. Revert to Version\n",
    "6. Copy File\n",
    "7. Move File\n",
    "8. Quit\n",
    "Enter your choice: 1\n",
    "Enter the file name: First\n",
    "Enter the file content: This is the first file   \n",
    "File 'First' created as '/home/ritwiz/Desktop/commvault/First.txt'.\n",
    "{'First': {'version': 1, 'created_at': datetime.datetime(2023, 10, 25, 13, 38, 45, 17961)}}\n",
    "{'First': {1: 'This is the first file'}}\n",
    "\n",
    "\n",
    "Options:\n",
    "1. Create File\n",
    "2. Edit File\n",
    "3. Delete File\n",
    "4. Get File Details\n",
    "5. Revert to Version\n",
    "6. Copy File\n",
    "7. Move File\n",
    "8. Quit\n",
    "Enter your choice: 1\n",
    "Enter the file name: Second\n",
    "Enter the file content: This is the second file\n",
    "File 'Second' created as '/home/ritwiz/Desktop/commvault/Second.txt'.\n",
    "{'First': {'version': 1, 'created_at': datetime.datetime(2023, 10, 25, 13, 38, 45, 17961)}, 'Second': {'version': 2, 'created_at': datetime.datetime(2023, 10, 25, 13, 39, 2, 361325)}}\n",
    "{'First': {1: 'This is the first file'}, 'Second': {2: 'This is the second file'}}\n",
    "\n",
    "\n",
    "Options:\n",
    "1. Create File\n",
    "2. Edit File\n",
    "3. Delete File\n",
    "4. Get File Details\n",
    "5. Revert to Version\n",
    "6. Copy File\n",
    "7. Move File\n",
    "8. Quit\n",
    "Enter your choice: 2\n",
    "Enter the file name: Second\n",
    "Enter the new content: Second file has been modified\n",
    "File 'Second' content has been updated to version 3.\n",
    "{'First': {'version': 1, 'created_at': datetime.datetime(2023, 10, 25, 13, 38, 45, 17961)}, 'Second': {'version': 3, 'created_at': datetime.datetime(2023, 10, 25, 13, 39, 28, 342133)}}\n",
    "{'First': {1: 'This is the first file'}, 'Second': {2: 'This is the second file', 3: 'Second file has been modified'}}\n",
    "\n",
    "\n",
    "Options:\n",
    "1. Create File\n",
    "2. Edit File\n",
    "3. Delete File\n",
    "4. Get File Details\n",
    "5. Revert to Version\n",
    "6. Copy File\n",
    "7. Move File\n",
    "8. Quit\n",
    "Enter your choice: 2\n",
    "Enter the file name: First\n",
    "Enter the new content: First has now been modified as well\n",
    "File 'First' content has been updated to version 2.\n",
    "{'First': {'version': 2, 'created_at': datetime.datetime(2023, 10, 25, 13, 39, 56, 184479)}, 'Second': {'version': 3, 'created_at': datetime.datetime(2023, 10, 25, 13, 39, 28, 342133)}}\n",
    "{'First': {1: 'This is the first file', 2: 'First has now been modified as well'}, 'Second': {2: 'This is the second file', 3: 'Second file has been modified'}}\n",
    "\n",
    "\n",
    "Options:\n",
    "1. Create File\n",
    "2. Edit File\n",
    "3. Delete File\n",
    "4. Get File Details\n",
    "5. Revert to Version\n",
    "6. Copy File\n",
    "7. Move File\n",
    "8. Quit\n",
    "Enter your choice: 2\n",
    "Enter the file name: First\n",
    "Enter the new content: Testing for version changes now \n",
    "File 'First' content has been updated to version 3.\n",
    "{'First': {'version': 3, 'created_at': datetime.datetime(2023, 10, 25, 13, 40, 23, 281114)}, 'Second': {'version': 3, 'created_at': datetime.datetime(2023, 10, 25, 13, 39, 28, 342133)}}\n",
    "{'First': {1: 'This is the first file', 2: 'First has now been modified as well', 3: 'Testing for version changes now '}, 'Second': {2: 'This is the second file', 3: 'Second file has been modified'}}\n",
    "\n",
    "\n",
    "Options:\n",
    "1. Create File\n",
    "2. Edit File\n",
    "3. Delete File\n",
    "4. Get File Details\n",
    "5. Revert to Version\n",
    "6. Copy File\n",
    "7. Move File\n",
    "8. Quit\n",
    "Enter your choice: 5\n",
    "Enter the file name: First\n",
    "Enter the version number: 2\n",
    "/home/ritwiz/Desktop/commvault/First.txt\n",
    "First has now been modified as well\n",
    "File First has been reverted to version 2\n",
    "\n",
    "\n",
    "Options:\n",
    "1. Create File\n",
    "2. Edit File\n",
    "3. Delete File\n",
    "4. Get File Details\n",
    "5. Revert to Version\n",
    "6. Copy File\n",
    "7. Move File\n",
    "8. Quit\n",
    "Enter your choice: 4\n",
    "Enter the file name: First\n",
    "File System :  {'version': 2, 'created_at': datetime.datetime(2023, 10, 25, 13, 40, 41, 189429)}\n",
    "Versions :  {1: 'This is the first file', 2: 'First has now been modified as well', 3: 'Testing for version changes now '}\n",
    "Current Version :  2\n",
    "\n",
    "\n",
    "Options:\n",
    "1. Create File\n",
    "2. Edit File\n",
    "3. Delete File\n",
    "4. Get File Details\n",
    "5. Revert to Version\n",
    "6. Copy File\n",
    "7. Move File\n",
    "8. Quit\n",
    "Enter your choice: 5\n",
    "Enter the file name: First\n",
    "Enter the version number: 3\n",
    "/home/ritwiz/Desktop/commvault/First.txt\n",
    "Testing for version changes now \n",
    "File First has been reverted to version 3\n",
    "\n",
    "\n",
    "Options:\n",
    "1. Create File\n",
    "2. Edit File\n",
    "3. Delete File\n",
    "4. Get File Details\n",
    "5. Revert to Version\n",
    "6. Copy File\n",
    "7. Move File\n",
    "8. Quit\n",
    "Enter your choice: 4\n",
    "Enter the file name: First\n",
    "File System :  {'version': 3, 'created_at': datetime.datetime(2023, 10, 25, 13, 41, 27, 783600)}\n",
    "Versions :  {1: 'This is the first file', 2: 'First has now been modified as well', 3: 'Testing for version changes now '}\n",
    "Current Version :  3\n",
    "\n",
    "\n",
    "Options:\n",
    "1. Create File\n",
    "2. Edit File\n",
    "3. Delete File\n",
    "4. Get File Details\n",
    "5. Revert to Version\n",
    "6. Copy File\n",
    "7. Move File\n",
    "8. Quit\n",
    "Enter your choice: 6\n",
    "Enter the file name: Second\n",
    "Enter the destination path: /home/ritwiz/Desktop/\n",
    "/home/ritwiz/Desktop/commvault/Second.txt\n",
    "Second has been copied to /home/ritwiz/Desktop/ with the name Second(Copy).txt\n",
    "\n",
    "\n",
    "Options:\n",
    "1. Create File\n",
    "2. Edit File\n",
    "3. Delete File\n",
    "4. Get File Details\n",
    "5. Revert to Version\n",
    "6. Copy File\n",
    "7. Move File\n",
    "8. Quit\n",
    "Enter your choice: 7\n",
    "Enter the file name: Second\n",
    "Enter the destination path: /home/ritwiz/Desktop/\n",
    "Second has been copied to /home/ritwiz/Desktop/\n",
    "\n",
    "\n",
    "Options:\n",
    "1. Create File\n",
    "2. Edit File\n",
    "3. Delete File\n",
    "4. Get File Details\n",
    "5. Revert to Version\n",
    "6. Copy File\n",
    "7. Move File\n",
    "8. Quit\n",
    "Enter your choice: 3\n",
    "Enter the file name: Second\n",
    "/home/ritwiz/Desktop/commvault/Second.txt\n",
    "No such file found to delete.\n",
    "\n",
    "\n",
    "Options:\n",
    "1. Create File\n",
    "2. Edit File\n",
    "3. Delete File\n",
    "4. Get File Details\n",
    "5. Revert to Version\n",
    "6. Copy File\n",
    "7. Move File\n",
    "8. Quit\n",
    "Enter your choice: 8"
   ]
  }
 ],
 "metadata": {
  "kernelspec": {
   "display_name": "Python 3 (ipykernel)",
   "language": "python",
   "name": "python3"
  },
  "language_info": {
   "codemirror_mode": {
    "name": "ipython",
    "version": 3
   },
   "file_extension": ".py",
   "mimetype": "text/x-python",
   "name": "python",
   "nbconvert_exporter": "python",
   "pygments_lexer": "ipython3",
   "version": "3.11.4"
  }
 },
 "nbformat": 4,
 "nbformat_minor": 5
}
