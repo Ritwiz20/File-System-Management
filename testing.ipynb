{
 "cells": [
  {
   "cell_type": "code",
   "execution_count": 2,
   "id": "b94b2095-c6be-4f1f-bd1f-0e306f75ed8e",
   "metadata": {},
   "outputs": [],
   "source": [
    "import shutil\n",
    "import os\n",
    "from datetime import datetime"
   ]
  },
  {
   "cell_type": "markdown",
   "id": "9aeebd0c-9135-4987-9c4a-30d5b3d6d73e",
   "metadata": {},
   "source": [
    "what to do? \n",
    "\n",
    "create a class filesystem \n",
    "define create_file() , revert_to_version(), delete_file(), copy_file(), move_file(), update_file(), get_details(), list_files()"
   ]
  },
  {
   "cell_type": "code",
   "execution_count": 340,
   "id": "93a453ee-756a-41fa-9492-2fc3bd906a3e",
   "metadata": {},
   "outputs": [],
   "source": [
    "class FileSystem:\n",
    "\n",
    "    def __init__(self, base_directory = None):\n",
    "        self.version_number = 1\n",
    "        self.version_dict = {}\n",
    "        self.file_storage = {}\n",
    "        self.base_directory = base_directory\n",
    "\n",
    "        if not self.base_directory:\n",
    "            self.base_directory = os.getcwd()\n",
    "        else:\n",
    "            if not os.path.exists(self.base_directory):\n",
    "                os.makedirs(self.base_directory)\n",
    "\n",
    "\n",
    "    def create_file(self, file_name, content):\n",
    "\n",
    "        file_path = os.path.join(self.base_directory, f\"{file_name}.txt\")\n",
    "\n",
    "        if os.path.exists(file_path):\n",
    "            print(f\"{file_name} already exists!\")\n",
    "        else:\n",
    "            self.file_storage[file_name] = {\n",
    "                \"version\" : self.version_number,\n",
    "                \"created_at\" : datetime.now().strftime(\"Date: %d/%m/%Y || Time: %H:%M:%S\")\n",
    "            }\n",
    "            self.version_dict[file_name] = { \n",
    "                self.version_number : content\n",
    "            }\n",
    "            \n",
    "            with open(file_path, 'w') as f:\n",
    "                f.write(content)\n",
    "                print(\"File created successfully\")\n",
    "\n",
    "\n",
    "    def get_details(self, file_name):\n",
    "        \n",
    "        file_path = os.path.join(self.base_directory, f\"{file_name}.txt\")\n",
    "\n",
    "        if os.path.exists(file_path):\n",
    "            print(\"File Storage :\",self.file_storage[file_name])\n",
    "            print(\"Versions Dict : \", self.version_dict[file_name])\n",
    "            print(\"Current Version : \", self.file_storage[file_name]['version'])\n",
    "        else:\n",
    "            print(\"No such file found\")\n",
    "\n",
    "\n",
    "    def delete_file(self, file_name):\n",
    "\n",
    "        file_path = os.path.join(self.base_directory, f\"{file_name}.txt\")\n",
    "\n",
    "        if os.path.exists(file_path):\n",
    "            os.remove(file_path)\n",
    "            del self.version_dict[file_name]\n",
    "            del self.file_storage[file_name]\n",
    "            self.version_number = 0\n",
    "            print(f\"{file_name} deleted successfully\")\n",
    "        else:\n",
    "            print(\"No such file found to delete\")\n",
    "\n",
    "\n",
    "    def update_file(self, file_name, new_content):\n",
    "\n",
    "        file_path = os.path.join(self.base_directory, f\"{file_name}.txt\")\n",
    "\n",
    "        if os.path.exists(file_path):\n",
    "            curr_version = self.file_storage[file_name]['version']\n",
    "            updated_version = curr_version + 1\n",
    "            self.file_storage[file_name] = {\n",
    "                'version' : updated_version,\n",
    "                'created_at' : datetime.now().strftime(\"Date: %d/%m/%Y || Time: %H:%M:%S\")\n",
    "            }\n",
    "\n",
    "            self.version_dict[file_name][updated_version] = new_content\n",
    "            self.version_number = updated_version\n",
    "\n",
    "            with open(file_path, 'w') as f:\n",
    "                f.write(new_content)\n",
    "\n",
    "            print(f\"{file_name} has been modified. The new version is now {updated_version}\")\n",
    "                \n",
    "        else:\n",
    "            print(f\"No such file exists, Try creating {file_name} first using the create method\")\n",
    "\n",
    "\n",
    "    def revert_to_version(self, file_name, version_number):\n",
    "\n",
    "        file_path = os.path.join(self.base_directory, f\"{file_name}.txt\")\n",
    "\n",
    "        if os.path.exists(file_path):\n",
    "            try:\n",
    "                if self.version_dict[file_name][version_number]:\n",
    "                    load_content = self.version_dict[file_name][version_number]  \n",
    "            except KeyError:\n",
    "                print(f\"For the file {file_name}, there is no version {version_number}, Try another version number\")\n",
    "            else:\n",
    "                with open(file_path, 'w') as f:\n",
    "                    f.write(load_content)\n",
    "                    \n",
    "                self.file_storage[file_name]['version'] = version_number\n",
    "                self.file_storage[file_name]['created_at'] = datetime.now().strftime(\"Date: %d/%m/%Y || Time: %H:%M:%S\")\n",
    "                print(f\"{file_name} has been reverted back to version {version_number}\")     \n",
    "        else:\n",
    "            print(f\"{file_name} not found\")\n",
    "\n",
    "    \n",
    "    def move_file(self, file_name, location):\n",
    "        \n",
    "        file_path = os.path.join(self.base_directory, f\"{file_name}.txt\")\n",
    "\n",
    "        if os.path.exists(file_path):\n",
    "            new_path =  os.path.join(location, f\"{file_name}.txt\")\n",
    "            if os.path.exists(new_path):\n",
    "                print(f\"{file_name} already exists in {location}\")\n",
    "            else:\n",
    "                shutil.move(file_path, new_path)\n",
    "                print(\"File has been moved successfully!\")\n",
    "        else:\n",
    "            print(\"No file found which can be moved\")\n",
    "\n",
    "\n",
    "    def copy_file(self, file_name, new_path):\n",
    "        \n",
    "        file_path = os.path.join(self.base_directory, f\"{file_name}.txt\")\n",
    "\n",
    "        if os.path.exists(file_path):\n",
    "            new_file_path = os.path.join(new_path, f\"{file_name}(Copy).txt\")\n",
    "            shutil.copy(file_path, new_file_path)\n",
    "\n",
    "            new_file = new_file_path.split('/')[-1].split('.')[0]\n",
    "            \n",
    "            self.file_storage[new_file] = {\n",
    "                'version' : 1,\n",
    "                'created_at': datetime.now().strftime(\"Date: %d/%m/%Y || Time: %H:%M:%S\")\n",
    "            }\n",
    "\n",
    "            with open(file_path, 'r') as f:\n",
    "                content = f.read()\n",
    "                \n",
    "            self.version_dict[new_file] = {\n",
    "                1 : content\n",
    "            }\n",
    "            \n",
    "            print(f\"{file_name} has been copied to {new_file_path} with the name {new_file}\")\n",
    "        else:\n",
    "            print(\"File not found which can be copied\")\n",
    "            \n",
    "\n",
    "    def list_all_files(self):\n",
    "        for root, dirs, files in os.walk(self.base_directory):\n",
    "            for file in files:\n",
    "                if file.endswith('.txt'):\n",
    "                    file_name = os.path.splitext(file)[0]\n",
    "                    \n",
    "                    if file_name in self.file_storage:\n",
    "                        version = self.file_storage[file_name]['version']\n",
    "                        content = self.version_dict[file_name][version]\n",
    "    \n",
    "                        print(\"File Name:\", file_name)\n",
    "                        print(\"Version:\", version)\n",
    "                        print(\"Content of file:\", content)\n",
    "                        print()"
   ]
  },
  {
   "cell_type": "code",
   "execution_count": 341,
   "id": "81c0b157-fe8a-4953-b31c-ed2f651ed774",
   "metadata": {},
   "outputs": [],
   "source": [
    "fs = FileSystem()"
   ]
  },
  {
   "cell_type": "code",
   "execution_count": 342,
   "id": "6e72bfb7-b411-43aa-be9a-dc847711f385",
   "metadata": {},
   "outputs": [
    {
     "name": "stdout",
     "output_type": "stream",
     "text": [
      "File created successfully\n"
     ]
    }
   ],
   "source": [
    "fs.create_file(\"File1\", \"This is a prototype\")"
   ]
  },
  {
   "cell_type": "code",
   "execution_count": 343,
   "id": "fceddda6-d2d9-4465-956a-197eaad2bf6b",
   "metadata": {},
   "outputs": [
    {
     "name": "stdout",
     "output_type": "stream",
     "text": [
      "File created successfully\n"
     ]
    }
   ],
   "source": [
    "fs.create_file(\"File2\", \"This is a prototype\")"
   ]
  },
  {
   "cell_type": "code",
   "execution_count": 344,
   "id": "0ac3222b-6c1f-4b9a-b9cd-a317b1dd260f",
   "metadata": {},
   "outputs": [
    {
     "name": "stdout",
     "output_type": "stream",
     "text": [
      "File created successfully\n"
     ]
    }
   ],
   "source": [
    "fs.create_file(\"File3\", \"This is a prototype\")"
   ]
  },
  {
   "cell_type": "code",
   "execution_count": 345,
   "id": "94b7d284-8f48-48d9-9e5f-50725a1e8757",
   "metadata": {},
   "outputs": [
    {
     "name": "stdout",
     "output_type": "stream",
     "text": [
      "File Name: File1\n",
      "Version: 1\n",
      "Content of file: This is a prototype\n",
      "\n",
      "File Name: File2\n",
      "Version: 1\n",
      "Content of file: This is a prototype\n",
      "\n",
      "File Name: File3\n",
      "Version: 1\n",
      "Content of file: This is a prototype\n",
      "\n"
     ]
    }
   ],
   "source": [
    "fs.list_all_files()"
   ]
  },
  {
   "cell_type": "code",
   "execution_count": 346,
   "id": "4bdc96b3-93c4-4ce2-bc69-61d910b3e1b3",
   "metadata": {},
   "outputs": [
    {
     "name": "stdout",
     "output_type": "stream",
     "text": [
      "File Storage : {'version': 1, 'created_at': 'Date: 01/11/2023 || Time: 20:18:12'}\n",
      "Versions Dict :  {1: 'This is a prototype'}\n",
      "Current Version :  1\n"
     ]
    }
   ],
   "source": [
    "fs.get_details(\"File1\")"
   ]
  },
  {
   "cell_type": "code",
   "execution_count": 347,
   "id": "23bd82d9-14b8-414d-bc3d-0ead25b715d4",
   "metadata": {},
   "outputs": [
    {
     "name": "stdout",
     "output_type": "stream",
     "text": [
      "File1 has been modified. The new version is now 2\n"
     ]
    }
   ],
   "source": [
    "fs.update_file(\"File1\", \"Hello this is the content after updating it for the first time\")"
   ]
  },
  {
   "cell_type": "code",
   "execution_count": 269,
   "id": "ef5fb463-9d94-45d8-b167-179e01978e17",
   "metadata": {},
   "outputs": [
    {
     "name": "stdout",
     "output_type": "stream",
     "text": [
      "{'File1': {'version': 2, 'created_at': 'Date: 01/11/2023 || Time: 19:50:11'}}\n",
      "File Storage : {'version': 2, 'created_at': 'Date: 01/11/2023 || Time: 19:50:11'}\n",
      "Versions Dict :  {1: 'This is a prototype', 2: 'Hello this is the content after updating it for the first time'}\n",
      "Current Version :  2\n"
     ]
    }
   ],
   "source": [
    "fs.get_details(\"File1\")"
   ]
  },
  {
   "cell_type": "code",
   "execution_count": 348,
   "id": "d2dac08b-413f-4f93-a9b6-20642816d2be",
   "metadata": {},
   "outputs": [
    {
     "name": "stdout",
     "output_type": "stream",
     "text": [
      "File3 has been modified. The new version is now 2\n"
     ]
    }
   ],
   "source": [
    "fs.update_file(\"File3\", \"2nd time updated\")"
   ]
  },
  {
   "cell_type": "code",
   "execution_count": 352,
   "id": "85294a2a-48c2-41dd-838e-7fc44a6f48a3",
   "metadata": {},
   "outputs": [
    {
     "name": "stdout",
     "output_type": "stream",
     "text": [
      "File Storage : {'version': 1, 'created_at': 'Date: 01/11/2023 || Time: 20:18:12'}\n",
      "Versions Dict :  {1: 'This is a prototype'}\n",
      "Current Version :  1\n"
     ]
    }
   ],
   "source": [
    "fs.get_details(\"File2\")"
   ]
  },
  {
   "cell_type": "code",
   "execution_count": 351,
   "id": "740b3dc1-ca5f-43ad-9393-f3862ff9daaa",
   "metadata": {},
   "outputs": [
    {
     "name": "stdout",
     "output_type": "stream",
     "text": [
      "File Storage : {'version': 2, 'created_at': 'Date: 01/11/2023 || Time: 20:18:23'}\n",
      "Versions Dict :  {1: 'This is a prototype', 2: 'Hello this is the content after updating it for the first time'}\n",
      "Current Version :  2\n"
     ]
    }
   ],
   "source": [
    "fs.get_details(\"File1\")"
   ]
  },
  {
   "cell_type": "code",
   "execution_count": 251,
   "id": "4f42c45f-049a-48a2-9b68-8d9ece4cc438",
   "metadata": {},
   "outputs": [
    {
     "name": "stdout",
     "output_type": "stream",
     "text": [
      "For the file File1, there is no version 10, Try another version number\n"
     ]
    }
   ],
   "source": [
    "fs.revert_to_version(\"File1\", 10)"
   ]
  },
  {
   "cell_type": "code",
   "execution_count": 252,
   "id": "6ba64f79-b316-47bb-bf9f-c55963b4a912",
   "metadata": {},
   "outputs": [
    {
     "name": "stdout",
     "output_type": "stream",
     "text": [
      "File1 has been reverted back to version 1\n"
     ]
    }
   ],
   "source": [
    "fs.revert_to_version(\"File1\", 1)"
   ]
  },
  {
   "cell_type": "code",
   "execution_count": 353,
   "id": "c389e08f-2feb-4e54-acc7-dac8fde1301c",
   "metadata": {},
   "outputs": [
    {
     "name": "stdout",
     "output_type": "stream",
     "text": [
      "File Storage : {'version': 2, 'created_at': 'Date: 01/11/2023 || Time: 20:18:23'}\n",
      "Versions Dict :  {1: 'This is a prototype', 2: 'Hello this is the content after updating it for the first time'}\n",
      "Current Version :  2\n"
     ]
    }
   ],
   "source": [
    "fs.get_details(\"File1\")"
   ]
  },
  {
   "cell_type": "code",
   "execution_count": 254,
   "id": "65ef5b3c-a4b6-4948-9846-34989d0572af",
   "metadata": {},
   "outputs": [
    {
     "name": "stdout",
     "output_type": "stream",
     "text": [
      "File1 has been reverted back to version 2\n"
     ]
    }
   ],
   "source": [
    "fs.revert_to_version(\"File1\", 2)"
   ]
  },
  {
   "cell_type": "code",
   "execution_count": 255,
   "id": "4235335b-de07-448f-bf5b-fbddd662d05e",
   "metadata": {},
   "outputs": [
    {
     "name": "stdout",
     "output_type": "stream",
     "text": [
      "File Storage : {'version': 2, 'created_at': 'Date: 01/11/2023 || Time: 19:47:26'}\n",
      "Versions Dict :  {1: 'This is a prototype', 2: 'Hello this is the content after updating it for the first time', 3: '2nd time updated'}\n",
      "Current Version :  2\n"
     ]
    }
   ],
   "source": [
    "fs.get_details(\"File1\")"
   ]
  },
  {
   "cell_type": "code",
   "execution_count": 355,
   "id": "6fa6e509-d256-4c48-99c5-1cbf38394693",
   "metadata": {},
   "outputs": [
    {
     "name": "stdout",
     "output_type": "stream",
     "text": [
      "File3 has been copied to /media/ritwiz/Code1/Jupyter-Workspace/ParentDirectory/File3(Copy).txt with the name File3(Copy)\n"
     ]
    }
   ],
   "source": [
    "fs.copy_file(\"File3\", os.getcwd())"
   ]
  },
  {
   "cell_type": "code",
   "execution_count": 297,
   "id": "7c625ccd-a0b5-4093-bb23-d0d545b32200",
   "metadata": {},
   "outputs": [
    {
     "name": "stdout",
     "output_type": "stream",
     "text": [
      "File Storage : {'version': 1, 'created_at': 'Date: 01/11/2023 || Time: 19:55:52'}\n",
      "Versions Dict :  {1: 'This is a prototype'}\n",
      "Current Version :  1\n"
     ]
    }
   ],
   "source": [
    "fs.get_details(\"File1\")"
   ]
  },
  {
   "cell_type": "code",
   "execution_count": 298,
   "id": "5245bd60-8f0f-4373-af2f-1ca1896719b4",
   "metadata": {},
   "outputs": [
    {
     "name": "stdout",
     "output_type": "stream",
     "text": [
      "File Storage : {'version': 1, 'created_at': 'Date: 01/11/2023 || Time: 19:55:59'}\n",
      "Versions Dict :  {1: 'This is a prototype'}\n",
      "Current Version :  1\n"
     ]
    }
   ],
   "source": [
    "fs.get_details(\"File1(Copy)\")"
   ]
  },
  {
   "cell_type": "code",
   "execution_count": 356,
   "id": "f5931978-a687-42cd-8097-26e54f808346",
   "metadata": {},
   "outputs": [
    {
     "name": "stdout",
     "output_type": "stream",
     "text": [
      "File1(Copy) has been modified. The new version is now 2\n"
     ]
    }
   ],
   "source": [
    "fs.update_file(\"File1(Copy)\", \"Yahoooo\")"
   ]
  },
  {
   "cell_type": "code",
   "execution_count": 357,
   "id": "6a5935e9-41b2-4dae-b75e-80f19d92674a",
   "metadata": {},
   "outputs": [
    {
     "name": "stdout",
     "output_type": "stream",
     "text": [
      "File Storage : {'version': 2, 'created_at': 'Date: 01/11/2023 || Time: 20:19:20'}\n",
      "Versions Dict :  {1: 'Hello this is the content after updating it for the first time', 2: 'Yahoooo'}\n",
      "Current Version :  2\n"
     ]
    }
   ],
   "source": [
    "fs.get_details(\"File1(Copy)\")"
   ]
  },
  {
   "cell_type": "code",
   "execution_count": 359,
   "id": "b7a39cfb-79d4-4bc2-a7a1-eadbbd869654",
   "metadata": {},
   "outputs": [
    {
     "name": "stdout",
     "output_type": "stream",
     "text": [
      "File1(Copy) has been reverted back to version 1\n"
     ]
    }
   ],
   "source": [
    "fs.revert_to_version(\"File1(Copy)\", 1)"
   ]
  },
  {
   "cell_type": "code",
   "execution_count": 360,
   "id": "0bd3a6f3-7662-4e1d-9f30-c105fe7ccb04",
   "metadata": {},
   "outputs": [
    {
     "name": "stdout",
     "output_type": "stream",
     "text": [
      "File Name: File1(Copy)\n",
      "Version: 1\n",
      "Content of file: Hello this is the content after updating it for the first time\n",
      "\n",
      "File Name: File1\n",
      "Version: 2\n",
      "Content of file: Hello this is the content after updating it for the first time\n",
      "\n",
      "File Name: File2\n",
      "Version: 1\n",
      "Content of file: This is a prototype\n",
      "\n",
      "File Name: File3(Copy)\n",
      "Version: 1\n",
      "Content of file: 2nd time updated\n",
      "\n",
      "File Name: File3\n",
      "Version: 2\n",
      "Content of file: 2nd time updated\n",
      "\n"
     ]
    }
   ],
   "source": [
    "fs.list_all_files()"
   ]
  },
  {
   "cell_type": "code",
   "execution_count": 305,
   "id": "c5a75d7d-a8e3-42d9-973e-3e209ea6fe74",
   "metadata": {},
   "outputs": [
    {
     "name": "stdout",
     "output_type": "stream",
     "text": [
      "File Storage : {'version': 2, 'created_at': 'Date: 01/11/2023 || Time: 19:57:37'}\n",
      "Versions Dict :  {1: 'This is a prototype', 2: 'Yahoooo'}\n",
      "Current Version :  2\n"
     ]
    }
   ],
   "source": [
    "fs.get_details(\"File1(Copy)\")"
   ]
  },
  {
   "cell_type": "code",
   "execution_count": 291,
   "id": "b4d6cddc-7938-4dfb-a030-20529874e8f8",
   "metadata": {},
   "outputs": [
    {
     "name": "stdout",
     "output_type": "stream",
     "text": [
      "File1 already exists in /media/ritwiz/Code1/Jupyter-Workspace\n"
     ]
    }
   ],
   "source": [
    "fs.move_file(\"File1\", '/media/ritwiz/Code1/Jupyter-Workspace')"
   ]
  },
  {
   "cell_type": "code",
   "execution_count": 289,
   "id": "ed4c2608-3139-494a-a088-156b35ff3089",
   "metadata": {},
   "outputs": [
    {
     "name": "stdout",
     "output_type": "stream",
     "text": [
      "No file found which can be moved\n"
     ]
    }
   ],
   "source": [
    "fs.move_file(\"File1\", '/media/ritwiz/Code1/Jupyter-Workspace')"
   ]
  },
  {
   "cell_type": "code",
   "execution_count": 261,
   "id": "e343f0d4-9717-4909-bdf5-96c13e065634",
   "metadata": {},
   "outputs": [
    {
     "name": "stdout",
     "output_type": "stream",
     "text": [
      "No such file found to delete\n"
     ]
    }
   ],
   "source": [
    "fs.delete_file(\"File1(Copy)\")"
   ]
  },
  {
   "cell_type": "code",
   "execution_count": 190,
   "id": "750db22d-2a09-4bf7-8b39-3822bb651fba",
   "metadata": {},
   "outputs": [
    {
     "data": {
      "text/plain": [
       "'/media/ritwiz/Code1/Jupyter-Workspace/ParentDirectory'"
      ]
     },
     "execution_count": 190,
     "metadata": {},
     "output_type": "execute_result"
    }
   ],
   "source": [
    "os.getcwd()"
   ]
  },
  {
   "cell_type": "code",
   "execution_count": null,
   "id": "34e3b069-4a5a-4b63-a642-b08449ae5639",
   "metadata": {},
   "outputs": [],
   "source": [
    "fs.self."
   ]
  }
 ],
 "metadata": {
  "kernelspec": {
   "display_name": "Python 3 (ipykernel)",
   "language": "python",
   "name": "python3"
  },
  "language_info": {
   "codemirror_mode": {
    "name": "ipython",
    "version": 3
   },
   "file_extension": ".py",
   "mimetype": "text/x-python",
   "name": "python",
   "nbconvert_exporter": "python",
   "pygments_lexer": "ipython3",
   "version": "3.11.4"
  }
 },
 "nbformat": 4,
 "nbformat_minor": 5
}
